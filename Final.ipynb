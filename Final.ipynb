{
  "nbformat": 4,
  "nbformat_minor": 0,
  "metadata": {
    "colab": {
      "provenance": [],
      "toc_visible": true,
      "authorship_tag": "ABX9TyPrSR/Xjkh5Z6TeVSv9B+MU",
      "include_colab_link": true
    },
    "kernelspec": {
      "name": "python3",
      "display_name": "Python 3"
    },
    "language_info": {
      "name": "python"
    }
  },
  "cells": [
    {
      "cell_type": "markdown",
      "metadata": {
        "id": "view-in-github",
        "colab_type": "text"
      },
      "source": [
        "<a href=\"https://colab.research.google.com/github/scyllastrikes/WildWestH4CKED4/blob/main/Final.ipynb\" target=\"_parent\"><img src=\"https://colab.research.google.com/assets/colab-badge.svg\" alt=\"Open In Colab\"/></a>"
      ]
    },
    {
      "cell_type": "markdown",
      "source": [
        "# **Flight Delay Prediction Using Machine Learning**\n",
        "\n",
        "### **Project Overview**\n",
        "\n",
        "This project aims to predict flight arrival delays using historical flight data and various influential factors such as weather conditions, crew availability, and traffic congestion. Accurate predictions of flight delays can help improve passenger experience and airline operational efficiency by enabling proactive measures to mitigate delays.\n",
        "\n",
        "### **Objectives**\n",
        "\n",
        "- Build a machine learning model to predict flight delays based on factors such as departure time, weather, traffic, and crew issues.\n",
        "- Use **PyTorch** to create a neural network model that processes the data and learns patterns in flight delays.\n",
        "- Evaluate the model’s performance using the **Mean Squared Error (MSE)** and other relevant metrics.\n",
        "\n",
        "\n"
      ],
      "metadata": {
        "id": "vrXbowK301xE"
      }
    },
    {
      "cell_type": "code",
      "source": [
        "import pandas as pd\n",
        "import torch\n",
        "import torch.nn as nn\n",
        "from sklearn.model_selection import train_test_split\n",
        "from sklearn.preprocessing import StandardScaler\n"
      ],
      "metadata": {
        "id": "WyL871l6v1Yn"
      },
      "execution_count": null,
      "outputs": []
    },
    {
      "cell_type": "code",
      "execution_count": null,
      "metadata": {
        "id": "XHex7_eCvrzl"
      },
      "outputs": [],
      "source": [
        "\n",
        "# Load the dataset\n",
        "df = pd.read_csv('/airplane_flights_dataset.csv')\n",
        "\n",
        "# Convert time columns to datetime\n",
        "df['Departure Time'] = pd.to_datetime(df['Departure Time'])\n",
        "df['Arrival Time'] = pd.to_datetime(df['Arrival Time'])\n",
        "df['Expected Time'] = pd.to_datetime(df['Expected Time'])\n",
        "\n",
        "# Calculate delay in minutes\n",
        "df['Delay in Minutes'] = (df['Arrival Time'] - df['Expected Time']).dt.total_seconds() / 60\n",
        "\n",
        "# Extract useful features\n",
        "df['Departure Hour'] = df['Departure Time'].dt.hour\n",
        "df['Departure Weekday'] = df['Departure Time'].dt.weekday\n",
        "\n",
        "# Convert bool columns to ints\n",
        "df['Peak Hour'] = df['Peak Hour'].astype(int)\n",
        "df['Bad Weather'] = df['Bad Weather'].astype(int)\n",
        "df['Traffic Congestion'] = df['Traffic Congestion'].astype(int)\n",
        "df['Crew Availability Issue'] = df['Crew Availability Issue'].astype(int)\n",
        "\n",
        "# Define features (X) and target (y)\n",
        "X = df[['Departure Hour', 'Departure Weekday', 'Peak Hour', 'Bad Weather', 'Traffic Congestion', 'Crew Availability Issue']].values\n",
        "y = df['Delay in Minutes'].values\n",
        "\n",
        "# Normalize the features\n",
        "scaler = StandardScaler()\n",
        "X = scaler.fit_transform(X)\n",
        "\n",
        "# Train/test split\n",
        "X_train, X_test, y_train, y_test = train_test_split(X, y, test_size=0.2, random_state=42)\n",
        "\n",
        "# Convert to PyTorch tensors\n",
        "X_train_tensor = torch.tensor(X_train, dtype=torch.float32)\n",
        "X_test_tensor = torch.tensor(X_test, dtype=torch.float32)\n",
        "y_train_tensor = torch.tensor(y_train, dtype=torch.float32).unsqueeze(1)\n",
        "y_test_tensor = torch.tensor(y_test, dtype=torch.float32).unsqueeze(1)\n"
      ]
    },
    {
      "cell_type": "code",
      "source": [
        "\n",
        "class SimpleNN(nn.Module):\n",
        "    def __init__(self):\n",
        "        super(SimpleNN, self).__init__()\n",
        "        self.fc1 = nn.Linear(6, 32)\n",
        "        self.fc2 = nn.Linear(32, 1)\n",
        "\n",
        "    def forward(self, x):\n",
        "        x = torch.relu(self.fc1(x))\n",
        "        x = self.fc2(x)\n",
        "        return x\n",
        "\n",
        "model = SimpleNN()\n"
      ],
      "metadata": {
        "id": "J_fFGMAQwPfW"
      },
      "execution_count": null,
      "outputs": []
    },
    {
      "cell_type": "code",
      "source": [
        "\n",
        "criterion = nn.MSELoss()\n",
        "optimizer = torch.optim.Adam(model.parameters(), lr=0.001)  # Adam optimizer\n"
      ],
      "metadata": {
        "id": "NufDx-6fwYWJ"
      },
      "execution_count": null,
      "outputs": []
    },
    {
      "cell_type": "code",
      "source": [
        "\n",
        "epochs = 140\n",
        "for epoch in range(epochs):\n",
        "    model.train()\n",
        "\n",
        "    # Forward pass\n",
        "    y_pred_train = model(X_train_tensor)\n",
        "    loss = criterion(y_pred_train, y_train_tensor)\n",
        "\n",
        "    optimizer.zero_grad()\n",
        "    loss.backward()\n",
        "    optimizer.step()\n",
        "\n",
        "    if (epoch+1) % 10 == 0:\n",
        "        print(f'Epoch [{epoch+1}/{epochs}], Loss: {loss.item():.4f}')\n"
      ],
      "metadata": {
        "colab": {
          "base_uri": "https://localhost:8080/"
        },
        "id": "Qb2xdTJJwjHm",
        "outputId": "565403b8-021d-450d-e298-0f9d3b6f5629"
      },
      "execution_count": null,
      "outputs": [
        {
          "output_type": "stream",
          "name": "stdout",
          "text": [
            "Epoch [10/140], Loss: 2600.9895\n",
            "Epoch [20/140], Loss: 2589.1282\n",
            "Epoch [30/140], Loss: 2576.5056\n",
            "Epoch [40/140], Loss: 2563.0293\n",
            "Epoch [50/140], Loss: 2548.6143\n",
            "Epoch [60/140], Loss: 2533.1816\n",
            "Epoch [70/140], Loss: 2516.6743\n",
            "Epoch [80/140], Loss: 2499.0627\n",
            "Epoch [90/140], Loss: 2480.2927\n",
            "Epoch [100/140], Loss: 2460.3496\n",
            "Epoch [110/140], Loss: 2439.2107\n",
            "Epoch [120/140], Loss: 2416.8279\n",
            "Epoch [130/140], Loss: 2393.1770\n",
            "Epoch [140/140], Loss: 2368.2605\n"
          ]
        }
      ]
    },
    {
      "cell_type": "code",
      "source": [
        "# Step 6: Evaluate the model on the test set\n",
        "\n",
        "model.eval()  # Set model to evaluation mode\n",
        "with torch.no_grad():\n",
        "    y_pred_test = model(X_test_tensor)\n",
        "    test_loss = criterion(y_pred_test, y_test_tensor)\n",
        "    print(f'Test Loss: {test_loss.item():.4f}')\n"
      ],
      "metadata": {
        "colab": {
          "base_uri": "https://localhost:8080/"
        },
        "id": "6X5ZIXzYwyfU",
        "outputId": "de891da2-749d-495c-ac36-6b16ef5ab22d"
      },
      "execution_count": null,
      "outputs": [
        {
          "output_type": "stream",
          "name": "stdout",
          "text": [
            "Test Loss: 2365.8608\n"
          ]
        }
      ]
    },
    {
      "cell_type": "code",
      "source": [
        "# Step 7: Making a new prediction\n",
        "\n",
        "# Example new flight feature vector (scaled like before)\n",
        "new_flight = scaler.transform([[10, 3, 1, 0, 1, 0]])  # Example: 10AM, Wednesday, peak hour, good weather, traffic, no crew issue\n",
        "new_flight_tensor = torch.tensor(new_flight, dtype=torch.float32)\n",
        "\n",
        "# Predict the delay\n",
        "model.eval()\n",
        "with torch.no_grad():\n",
        "    predicted_delay = model(new_flight_tensor)\n",
        "    print(f'Predicted delay: {predicted_delay.item():.2f} minutes')\n"
      ],
      "metadata": {
        "colab": {
          "base_uri": "https://localhost:8080/"
        },
        "id": "MmNVz1VsxEln",
        "outputId": "b8c4aecb-f618-41b2-a11e-473755aef4e0"
      },
      "execution_count": null,
      "outputs": [
        {
          "output_type": "stream",
          "name": "stdout",
          "text": [
            "Predicted delay: 4.01 minutes\n"
          ]
        }
      ]
    }
  ]
}